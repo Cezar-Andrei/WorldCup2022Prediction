{
 "cells": [
  {
   "cell_type": "markdown",
   "id": "eada3d80",
   "metadata": {},
   "source": [
    "1. Data Cleaning"
   ]
  },
  {
   "cell_type": "code",
   "execution_count": 1,
   "id": "37a10311",
   "metadata": {},
   "outputs": [],
   "source": [
    "import pandas as pd\n",
    "df_historical_data = pd.read_csv('fifa_worldcup_historical_data.csv')\n",
    "df_fixture = pd.read_csv('fifa_worldcup_fixture.csv')\n",
    "df_missing_data = pd.read_csv('fifa_worldcup_missing_data.csv')"
   ]
  },
  {
   "cell_type": "code",
   "execution_count": 2,
   "id": "c53636c3",
   "metadata": {},
   "outputs": [],
   "source": [
    "df_fixture['home'] = df_fixture['home'].str.strip() # Getting rid of the unnecessary characters from the specified collumns\n",
    "df_fixture['away'] = df_fixture['away'].str.strip()"
   ]
  },
  {
   "cell_type": "code",
   "execution_count": null,
   "id": "2c3e979c",
   "metadata": {},
   "outputs": [],
   "source": [
    "df_missing_data[df_missing_data['home'].isnull()] # To see what elements are NaN in the table (if there are any)\n",
    "df_missing_data.dropna(inplace=True) # Getting rid of the NaN elements"
   ]
  },
  {
   "cell_type": "code",
   "execution_count": 4,
   "id": "c51e1f79",
   "metadata": {},
   "outputs": [],
   "source": [
    "# Concatenate and clean\n",
    "df_historical_data = pd.concat([df_missing_data, df_historical_data], ignore_index=True)\n",
    "df_historical_data.drop_duplicates(inplace=True)\n",
    "df_historical_data.sort_values('year', inplace=True)"
   ]
  },
  {
   "cell_type": "markdown",
   "id": "6ad1b0d3",
   "metadata": {},
   "source": [
    "Cleaning df_historical_data"
   ]
  },
  {
   "cell_type": "code",
   "execution_count": null,
   "id": "e47b1820",
   "metadata": {},
   "outputs": [],
   "source": [
    "# Deleting the game in which a team abandoned the game\n",
    "delete_index = df_historical_data[df_historical_data['home'].str.contains('Sweden') & \n",
    "                   df_historical_data['away'].str.contains('Austria')].index\n",
    "df_historical_data.drop(index = delete_index, inplace=True)"
   ]
  },
  {
   "cell_type": "code",
   "execution_count": 6,
   "id": "91189444",
   "metadata": {},
   "outputs": [
    {
     "name": "stderr",
     "output_type": "stream",
     "text": [
      "<>:1: SyntaxWarning: invalid escape sequence '\\d'\n",
      "<>:1: SyntaxWarning: invalid escape sequence '\\d'\n",
      "C:\\Users\\Cezar\\AppData\\Local\\Temp\\ipykernel_43484\\78751840.py:1: SyntaxWarning: invalid escape sequence '\\d'\n",
      "  df_historical_data['score'] = df_historical_data['score'].str.replace('[^\\d–-]', '', regex=True)\n"
     ]
    },
    {
     "data": {
      "text/html": [
       "<div>\n",
       "<style scoped>\n",
       "    .dataframe tbody tr th:only-of-type {\n",
       "        vertical-align: middle;\n",
       "    }\n",
       "\n",
       "    .dataframe tbody tr th {\n",
       "        vertical-align: top;\n",
       "    }\n",
       "\n",
       "    .dataframe thead th {\n",
       "        text-align: right;\n",
       "    }\n",
       "</style>\n",
       "<table border=\"1\" class=\"dataframe\">\n",
       "  <thead>\n",
       "    <tr style=\"text-align: right;\">\n",
       "      <th></th>\n",
       "      <th>home</th>\n",
       "      <th>score</th>\n",
       "      <th>away</th>\n",
       "      <th>year</th>\n",
       "    </tr>\n",
       "  </thead>\n",
       "  <tbody>\n",
       "    <tr>\n",
       "      <th>36</th>\n",
       "      <td>France</td>\n",
       "      <td>4–1</td>\n",
       "      <td>Mexico</td>\n",
       "      <td>1930</td>\n",
       "    </tr>\n",
       "    <tr>\n",
       "      <th>41</th>\n",
       "      <td>Argentina</td>\n",
       "      <td>3–1</td>\n",
       "      <td>Chile</td>\n",
       "      <td>1930</td>\n",
       "    </tr>\n",
       "    <tr>\n",
       "      <th>42</th>\n",
       "      <td>Yugoslavia</td>\n",
       "      <td>2–1</td>\n",
       "      <td>Brazil</td>\n",
       "      <td>1930</td>\n",
       "    </tr>\n",
       "    <tr>\n",
       "      <th>43</th>\n",
       "      <td>Yugoslavia</td>\n",
       "      <td>4–0</td>\n",
       "      <td>Bolivia</td>\n",
       "      <td>1930</td>\n",
       "    </tr>\n",
       "    <tr>\n",
       "      <th>44</th>\n",
       "      <td>Brazil</td>\n",
       "      <td>4–0</td>\n",
       "      <td>Bolivia</td>\n",
       "      <td>1930</td>\n",
       "    </tr>\n",
       "    <tr>\n",
       "      <th>...</th>\n",
       "      <td>...</td>\n",
       "      <td>...</td>\n",
       "      <td>...</td>\n",
       "      <td>...</td>\n",
       "    </tr>\n",
       "    <tr>\n",
       "      <th>841</th>\n",
       "      <td>Uruguay</td>\n",
       "      <td>3–0</td>\n",
       "      <td>Russia</td>\n",
       "      <td>2018</td>\n",
       "    </tr>\n",
       "    <tr>\n",
       "      <th>840</th>\n",
       "      <td>Uruguay</td>\n",
       "      <td>1–0</td>\n",
       "      <td>Saudi Arabia</td>\n",
       "      <td>2018</td>\n",
       "    </tr>\n",
       "    <tr>\n",
       "      <th>839</th>\n",
       "      <td>Russia</td>\n",
       "      <td>3–1</td>\n",
       "      <td>Egypt</td>\n",
       "      <td>2018</td>\n",
       "    </tr>\n",
       "    <tr>\n",
       "      <th>838</th>\n",
       "      <td>Egypt</td>\n",
       "      <td>0–1</td>\n",
       "      <td>Uruguay</td>\n",
       "      <td>2018</td>\n",
       "    </tr>\n",
       "    <tr>\n",
       "      <th>837</th>\n",
       "      <td>Russia</td>\n",
       "      <td>5–0</td>\n",
       "      <td>Saudi Arabia</td>\n",
       "      <td>2018</td>\n",
       "    </tr>\n",
       "  </tbody>\n",
       "</table>\n",
       "<p>900 rows × 4 columns</p>\n",
       "</div>"
      ],
      "text/plain": [
       "            home score           away  year\n",
       "36       France    4–1         Mexico  1930\n",
       "41    Argentina    3–1          Chile  1930\n",
       "42   Yugoslavia    2–1         Brazil  1930\n",
       "43   Yugoslavia    4–0        Bolivia  1930\n",
       "44       Brazil    4–0        Bolivia  1930\n",
       "..           ...   ...            ...   ...\n",
       "841     Uruguay    3–0         Russia  2018\n",
       "840     Uruguay    1–0   Saudi Arabia  2018\n",
       "839      Russia    3–1          Egypt  2018\n",
       "838       Egypt    0–1        Uruguay  2018\n",
       "837      Russia    5–0   Saudi Arabia  2018\n",
       "\n",
       "[900 rows x 4 columns]"
      ]
     },
     "execution_count": 6,
     "metadata": {},
     "output_type": "execute_result"
    }
   ],
   "source": [
    "df_historical_data['score'] = df_historical_data['score'].str.replace('[^\\d–-]', '', regex=True)\n",
    "df_historical_data"
   ]
  },
  {
   "cell_type": "code",
   "execution_count": 7,
   "id": "e1fe1383",
   "metadata": {},
   "outputs": [],
   "source": [
    "df_historical_data['home'] = df_historical_data['home'].str.strip() # Getting rid of the unnecessary characters from the specified collumns\n",
    "df_historical_data['away'] = df_historical_data['away'].str.strip()"
   ]
  },
  {
   "cell_type": "code",
   "execution_count": null,
   "id": "046e8ce0",
   "metadata": {},
   "outputs": [],
   "source": [
    "# Splitting the score column into home and away goals\n",
    "df_historical_data[['HomeGoals', 'AwayGoals']] = df_historical_data['score'].str.split('–', expand=True)\n",
    "df_historical_data.drop('score', axis=1, inplace=True) # Got rid of the riginal 'score' column\n",
    "df_historical_data"
   ]
  },
  {
   "cell_type": "code",
   "execution_count": null,
   "id": "3bf555b3",
   "metadata": {},
   "outputs": [
    {
     "data": {
      "text/plain": [
       "HomeTeam     object\n",
       "AwayTeam     object\n",
       "Year          int64\n",
       "HomeGoals     int64\n",
       "AwayGoals     int64\n",
       "dtype: object"
      ]
     },
     "execution_count": 13,
     "metadata": {},
     "output_type": "execute_result"
    }
   ],
   "source": [
    "# Renaming the columns and changing their data types\n",
    "df_historical_data.rename(columns={'home': 'HomeTeam', 'away': 'AwayTeam', 'year': 'Year'}, inplace=True)\n",
    "df_historical_data = df_historical_data.astype({'HomeGoals': int, 'AwayGoals': int, 'Year': int})\n",
    "df_historical_data.dtypes"
   ]
  },
  {
   "cell_type": "code",
   "execution_count": 14,
   "id": "54594eb4",
   "metadata": {},
   "outputs": [
    {
     "data": {
      "text/html": [
       "<div>\n",
       "<style scoped>\n",
       "    .dataframe tbody tr th:only-of-type {\n",
       "        vertical-align: middle;\n",
       "    }\n",
       "\n",
       "    .dataframe tbody tr th {\n",
       "        vertical-align: top;\n",
       "    }\n",
       "\n",
       "    .dataframe thead th {\n",
       "        text-align: right;\n",
       "    }\n",
       "</style>\n",
       "<table border=\"1\" class=\"dataframe\">\n",
       "  <thead>\n",
       "    <tr style=\"text-align: right;\">\n",
       "      <th></th>\n",
       "      <th>HomeTeam</th>\n",
       "      <th>AwayTeam</th>\n",
       "      <th>Year</th>\n",
       "      <th>HomeGoals</th>\n",
       "      <th>AwayGoals</th>\n",
       "      <th>TotalGoals</th>\n",
       "    </tr>\n",
       "  </thead>\n",
       "  <tbody>\n",
       "    <tr>\n",
       "      <th>36</th>\n",
       "      <td>France</td>\n",
       "      <td>Mexico</td>\n",
       "      <td>1930</td>\n",
       "      <td>4</td>\n",
       "      <td>1</td>\n",
       "      <td>5</td>\n",
       "    </tr>\n",
       "    <tr>\n",
       "      <th>41</th>\n",
       "      <td>Argentina</td>\n",
       "      <td>Chile</td>\n",
       "      <td>1930</td>\n",
       "      <td>3</td>\n",
       "      <td>1</td>\n",
       "      <td>4</td>\n",
       "    </tr>\n",
       "    <tr>\n",
       "      <th>42</th>\n",
       "      <td>Yugoslavia</td>\n",
       "      <td>Brazil</td>\n",
       "      <td>1930</td>\n",
       "      <td>2</td>\n",
       "      <td>1</td>\n",
       "      <td>3</td>\n",
       "    </tr>\n",
       "    <tr>\n",
       "      <th>43</th>\n",
       "      <td>Yugoslavia</td>\n",
       "      <td>Bolivia</td>\n",
       "      <td>1930</td>\n",
       "      <td>4</td>\n",
       "      <td>0</td>\n",
       "      <td>4</td>\n",
       "    </tr>\n",
       "    <tr>\n",
       "      <th>44</th>\n",
       "      <td>Brazil</td>\n",
       "      <td>Bolivia</td>\n",
       "      <td>1930</td>\n",
       "      <td>4</td>\n",
       "      <td>0</td>\n",
       "      <td>4</td>\n",
       "    </tr>\n",
       "    <tr>\n",
       "      <th>...</th>\n",
       "      <td>...</td>\n",
       "      <td>...</td>\n",
       "      <td>...</td>\n",
       "      <td>...</td>\n",
       "      <td>...</td>\n",
       "      <td>...</td>\n",
       "    </tr>\n",
       "    <tr>\n",
       "      <th>841</th>\n",
       "      <td>Uruguay</td>\n",
       "      <td>Russia</td>\n",
       "      <td>2018</td>\n",
       "      <td>3</td>\n",
       "      <td>0</td>\n",
       "      <td>3</td>\n",
       "    </tr>\n",
       "    <tr>\n",
       "      <th>840</th>\n",
       "      <td>Uruguay</td>\n",
       "      <td>Saudi Arabia</td>\n",
       "      <td>2018</td>\n",
       "      <td>1</td>\n",
       "      <td>0</td>\n",
       "      <td>1</td>\n",
       "    </tr>\n",
       "    <tr>\n",
       "      <th>839</th>\n",
       "      <td>Russia</td>\n",
       "      <td>Egypt</td>\n",
       "      <td>2018</td>\n",
       "      <td>3</td>\n",
       "      <td>1</td>\n",
       "      <td>4</td>\n",
       "    </tr>\n",
       "    <tr>\n",
       "      <th>838</th>\n",
       "      <td>Egypt</td>\n",
       "      <td>Uruguay</td>\n",
       "      <td>2018</td>\n",
       "      <td>0</td>\n",
       "      <td>1</td>\n",
       "      <td>1</td>\n",
       "    </tr>\n",
       "    <tr>\n",
       "      <th>837</th>\n",
       "      <td>Russia</td>\n",
       "      <td>Saudi Arabia</td>\n",
       "      <td>2018</td>\n",
       "      <td>5</td>\n",
       "      <td>0</td>\n",
       "      <td>5</td>\n",
       "    </tr>\n",
       "  </tbody>\n",
       "</table>\n",
       "<p>900 rows × 6 columns</p>\n",
       "</div>"
      ],
      "text/plain": [
       "       HomeTeam      AwayTeam  Year  HomeGoals  AwayGoals  TotalGoals\n",
       "36       France        Mexico  1930          4          1           5\n",
       "41    Argentina         Chile  1930          3          1           4\n",
       "42   Yugoslavia        Brazil  1930          2          1           3\n",
       "43   Yugoslavia       Bolivia  1930          4          0           4\n",
       "44       Brazil       Bolivia  1930          4          0           4\n",
       "..          ...           ...   ...        ...        ...         ...\n",
       "841     Uruguay        Russia  2018          3          0           3\n",
       "840     Uruguay  Saudi Arabia  2018          1          0           1\n",
       "839      Russia         Egypt  2018          3          1           4\n",
       "838       Egypt       Uruguay  2018          0          1           1\n",
       "837      Russia  Saudi Arabia  2018          5          0           5\n",
       "\n",
       "[900 rows x 6 columns]"
      ]
     },
     "execution_count": 14,
     "metadata": {},
     "output_type": "execute_result"
    }
   ],
   "source": [
    "# Create a new collumn called 'TotalGoals'\n",
    "df_historical_data['TotalGoals'] = df_historical_data['HomeGoals'] + df_historical_data['AwayGoals']\n",
    "df_historical_data"
   ]
  },
  {
   "cell_type": "markdown",
   "id": "682b8d6b",
   "metadata": {},
   "source": [
    "2. Exporting Clean Dataframes"
   ]
  },
  {
   "cell_type": "code",
   "execution_count": 15,
   "id": "e124993c",
   "metadata": {},
   "outputs": [],
   "source": [
    "df_historical_data.to_csv('clean_fifa_worldcup_historical_data.csv', index=False)\n",
    "df_fixture.to_csv('clean_fifa_worldcup_fixture.csv', index=False)"
   ]
  },
  {
   "cell_type": "markdown",
   "id": "c0c8cb7d",
   "metadata": {},
   "source": [
    "3. Simple verification"
   ]
  },
  {
   "cell_type": "code",
   "execution_count": 16,
   "id": "0ab73403",
   "metadata": {},
   "outputs": [
    {
     "name": "stdout",
     "output_type": "stream",
     "text": [
      "1930 18\n",
      "1934 17\n",
      "1938 18\n",
      "1950 22\n",
      "1954 26\n",
      "1958 35\n",
      "1962 32\n",
      "1966 32\n",
      "1970 32\n",
      "1974 38\n",
      "1978 38\n",
      "1982 52\n",
      "1986 52\n",
      "1990 52\n",
      "1994 52\n",
      "1998 64\n",
      "2002 64\n",
      "2006 64\n",
      "2010 64\n",
      "2014 64\n",
      "2018 64\n"
     ]
    }
   ],
   "source": [
    "years = [1930, 1934, 1938, 1950, 1954, 1958, 1962, 1966, 1970, 1974, \n",
    "         1978, 1982, 1986, 1990, 1994, 1998, 2002, 2006, 2010, 2014, \n",
    "         2018]\n",
    "\n",
    "for year in years:\n",
    "    print(year, len(df_historical_data[df_historical_data['Year'] == year]))"
   ]
  }
 ],
 "metadata": {
  "kernelspec": {
   "display_name": ".venv",
   "language": "python",
   "name": "python3"
  },
  "language_info": {
   "codemirror_mode": {
    "name": "ipython",
    "version": 3
   },
   "file_extension": ".py",
   "mimetype": "text/x-python",
   "name": "python",
   "nbconvert_exporter": "python",
   "pygments_lexer": "ipython3",
   "version": "3.12.10"
  }
 },
 "nbformat": 4,
 "nbformat_minor": 5
}

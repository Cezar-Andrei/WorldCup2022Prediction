{
 "cells": [
  {
   "cell_type": "markdown",
   "id": "e3c749c7",
   "metadata": {},
   "source": [
    "1 Data from all the years in which a WC was played"
   ]
  },
  {
   "cell_type": "code",
   "execution_count": 2,
   "id": "7d413eba",
   "metadata": {},
   "outputs": [],
   "source": [
    "from bs4 import BeautifulSoup\n",
    "import requests\n",
    "import pandas as pd\n",
    "\n",
    "years = [1930, 1934, 1938, 1950, 1954, 1958, 1962, 1966, 1970, 1974, \n",
    "         1978, 1982, 1986, 1990, 1994, 1998, 2002, 2006, 2010, 2014, \n",
    "         2018]\n",
    "\n",
    "\n",
    "def get_matches(year):\n",
    "    web = f'https://en.wikipedia.org/wiki/{year}_FIFA_World_Cup'\n",
    "    response = requests.get(web)\n",
    "    content = response.text\n",
    "    soup = BeautifulSoup(content, 'lxml')\n",
    "\n",
    "    matches = soup.find_all('div', class_ = 'footballbox')\n",
    "\n",
    "    home = []\n",
    "    score = []\n",
    "    away = []\n",
    "\n",
    "    for match in matches:\n",
    "        home.append(match.find('th', class_ = 'fhome').get_text())\n",
    "        score.append(match.find('th', class_ = 'fscore').get_text())\n",
    "        away.append(match.find('th', class_ = 'faway').get_text())\n",
    "\n",
    "    dict_football = {'home': home, 'score': score, 'away': away}\n",
    "    df_football = pd.DataFrame(dict_football)\n",
    "    df_football['year'] = year # adauga o coloana aditionala cu anul in care au fost jucate meciurile\n",
    "\n",
    "    return df_football\n",
    "\n",
    "# date istorice, din toti anii, concatenate intr un singur fisier de tip .csv\n",
    "fifa = [get_matches(year) for year in years]\n",
    "df_fifa = pd.concat(fifa, ignore_index=True)\n",
    "df_fifa.to_csv('fifa_worldcup_historical_data.csv', index=False)\n",
    "\n"
   ]
  },
  {
   "cell_type": "markdown",
   "id": "ef8bd725",
   "metadata": {},
   "source": [
    "2 Data from the year that we want to predict the winner"
   ]
  },
  {
   "cell_type": "code",
   "execution_count": 3,
   "id": "aeeb4532",
   "metadata": {},
   "outputs": [],
   "source": [
    "web_2022 = 'https://web.archive.org/web/20221115040351/https://en.wikipedia.org/wiki/2022_FIFA_World_Cup'\n",
    "response = requests.get(web_2022)\n",
    "content = response.text\n",
    "soup = BeautifulSoup(content, 'lxml')\n",
    "\n",
    "matches = soup.find_all('div', class_ = 'footballbox')\n",
    "\n",
    "home_2022 = []\n",
    "score_2022 = []\n",
    "away_2022 = []\n",
    "\n",
    "for match in matches:\n",
    "    home_2022.append(match.find('th', class_ = 'fhome').get_text())\n",
    "    score_2022.append(match.find('th', class_ = 'fscore').get_text())\n",
    "    away_2022.append(match.find('th', class_ = 'faway').get_text())\n",
    "\n",
    "dict_football_2022 = {'home': home_2022, 'score': score_2022, 'away': away_2022}\n",
    "df_football_2022 = pd.DataFrame(dict_football_2022)\n",
    "df_football_2022['year'] = 2022\n",
    "\n",
    "# meciuri anuntate\n",
    "df_fixture = df_football_2022\n",
    "df_fixture.to_csv('fifa_worldcup_fixture.csv', index=False)"
   ]
  },
  {
   "cell_type": "markdown",
   "id": "0a96cc72",
   "metadata": {},
   "source": [
    "3 Missing data from all the years in which the WC was played"
   ]
  },
  {
   "cell_type": "code",
   "execution_count": 4,
   "id": "a9b8e549",
   "metadata": {},
   "outputs": [
    {
     "ename": "InvalidSessionIdException",
     "evalue": "Message: invalid session id: session deleted as the browser has closed the connection\nfrom disconnected: not connected to DevTools\n  (Session info: chrome=138.0.7204.97); For documentation on this error, please visit: https://www.selenium.dev/documentation/webdriver/troubleshooting/errors#invalidsessionidexception\nStacktrace:\n\tGetHandleVerifier [0x0x7ff659746f95+76917]\n\tGetHandleVerifier [0x0x7ff659746ff0+77008]\n\t(No symbol) [0x0x7ff6594f9dea]\n\t(No symbol) [0x0x7ff6594e5f15]\n\t(No symbol) [0x0x7ff65950abf4]\n\t(No symbol) [0x0x7ff65957fa85]\n\t(No symbol) [0x0x7ff65959ff72]\n\t(No symbol) [0x0x7ff659578243]\n\t(No symbol) [0x0x7ff659541431]\n\t(No symbol) [0x0x7ff6595421c3]\n\tGetHandleVerifier [0x0x7ff659a1d2cd+3051437]\n\tGetHandleVerifier [0x0x7ff659a17923+3028483]\n\tGetHandleVerifier [0x0x7ff659a358bd+3151261]\n\tGetHandleVerifier [0x0x7ff65976185e+185662]\n\tGetHandleVerifier [0x0x7ff65976971f+218111]\n\tGetHandleVerifier [0x0x7ff65974fb14+112628]\n\tGetHandleVerifier [0x0x7ff65974fcc9+113065]\n\tGetHandleVerifier [0x0x7ff659736c98+10616]\n\tBaseThreadInitThunk [0x0x7ffc62cbe8d7+23]\n\tRtlUserThreadStart [0x0x7ffc633bc34c+44]\n",
     "output_type": "error",
     "traceback": [
      "\u001b[31m---------------------------------------------------------------------------\u001b[39m",
      "\u001b[31mInvalidSessionIdException\u001b[39m                 Traceback (most recent call last)",
      "\u001b[36mCell\u001b[39m\u001b[36m \u001b[39m\u001b[32mIn[4]\u001b[39m\u001b[32m, line 35\u001b[39m\n\u001b[32m     32\u001b[39m     time.sleep(\u001b[32m2\u001b[39m)\n\u001b[32m     33\u001b[39m     \u001b[38;5;28;01mreturn\u001b[39;00m df_football\n\u001b[32m---> \u001b[39m\u001b[32m35\u001b[39m fifa = [\u001b[43mget_missing_data\u001b[49m\u001b[43m(\u001b[49m\u001b[43myear\u001b[49m\u001b[43m)\u001b[49m \u001b[38;5;28;01mfor\u001b[39;00m year \u001b[38;5;129;01min\u001b[39;00m years]\n\u001b[32m     36\u001b[39m driver.quit()\n\u001b[32m     37\u001b[39m df_fifa = pd.concat(fifa, ignore_index=\u001b[38;5;28;01mTrue\u001b[39;00m)\n",
      "\u001b[36mCell\u001b[39m\u001b[36m \u001b[39m\u001b[32mIn[4]\u001b[39m\u001b[32m, line 17\u001b[39m, in \u001b[36mget_missing_data\u001b[39m\u001b[34m(year)\u001b[39m\n\u001b[32m     14\u001b[39m \u001b[38;5;28;01mdef\u001b[39;00m\u001b[38;5;250m \u001b[39m\u001b[34mget_missing_data\u001b[39m(year):\n\u001b[32m     15\u001b[39m     web = \u001b[33mf\u001b[39m\u001b[33m'\u001b[39m\u001b[33mhttps://en.wikipedia.org/wiki/\u001b[39m\u001b[38;5;132;01m{\u001b[39;00myear\u001b[38;5;132;01m}\u001b[39;00m\u001b[33m_FIFA_World_Cup\u001b[39m\u001b[33m'\u001b[39m\n\u001b[32m---> \u001b[39m\u001b[32m17\u001b[39m     \u001b[43mdriver\u001b[49m\u001b[43m.\u001b[49m\u001b[43mget\u001b[49m\u001b[43m(\u001b[49m\u001b[43mweb\u001b[49m\u001b[43m)\u001b[49m\n\u001b[32m     18\u001b[39m     matches = driver.find_elements(by=\u001b[33m'\u001b[39m\u001b[33mxpath\u001b[39m\u001b[33m'\u001b[39m, value=\u001b[33m'\u001b[39m\u001b[33m//tr[@style=\u001b[39m\u001b[33m\"\u001b[39m\u001b[33mfont-size:90\u001b[39m\u001b[33m%\u001b[39m\u001b[33m\"\u001b[39m\u001b[33m]\u001b[39m\u001b[33m'\u001b[39m)\n\u001b[32m     20\u001b[39m     home = []\n",
      "\u001b[36mFile \u001b[39m\u001b[32md:\\Invatat\\WC2022Prediction\\.venv\\Lib\\site-packages\\selenium\\webdriver\\remote\\webdriver.py:479\u001b[39m, in \u001b[36mWebDriver.get\u001b[39m\u001b[34m(self, url)\u001b[39m\n\u001b[32m    461\u001b[39m \u001b[38;5;28;01mdef\u001b[39;00m\u001b[38;5;250m \u001b[39m\u001b[34mget\u001b[39m(\u001b[38;5;28mself\u001b[39m, url: \u001b[38;5;28mstr\u001b[39m) -> \u001b[38;5;28;01mNone\u001b[39;00m:\n\u001b[32m    462\u001b[39m \u001b[38;5;250m    \u001b[39m\u001b[33;03m\"\"\"Navigate the browser to the specified URL in the current window or\u001b[39;00m\n\u001b[32m    463\u001b[39m \u001b[33;03m    tab.\u001b[39;00m\n\u001b[32m    464\u001b[39m \n\u001b[32m   (...)\u001b[39m\u001b[32m    477\u001b[39m \u001b[33;03m    >>> driver.get(\"https://example.com\")\u001b[39;00m\n\u001b[32m    478\u001b[39m \u001b[33;03m    \"\"\"\u001b[39;00m\n\u001b[32m--> \u001b[39m\u001b[32m479\u001b[39m     \u001b[38;5;28;43mself\u001b[39;49m\u001b[43m.\u001b[49m\u001b[43mexecute\u001b[49m\u001b[43m(\u001b[49m\u001b[43mCommand\u001b[49m\u001b[43m.\u001b[49m\u001b[43mGET\u001b[49m\u001b[43m,\u001b[49m\u001b[43m \u001b[49m\u001b[43m{\u001b[49m\u001b[33;43m\"\u001b[39;49m\u001b[33;43murl\u001b[39;49m\u001b[33;43m\"\u001b[39;49m\u001b[43m:\u001b[49m\u001b[43m \u001b[49m\u001b[43murl\u001b[49m\u001b[43m}\u001b[49m\u001b[43m)\u001b[49m\n",
      "\u001b[36mFile \u001b[39m\u001b[32md:\\Invatat\\WC2022Prediction\\.venv\\Lib\\site-packages\\selenium\\webdriver\\remote\\webdriver.py:454\u001b[39m, in \u001b[36mWebDriver.execute\u001b[39m\u001b[34m(self, driver_command, params)\u001b[39m\n\u001b[32m    451\u001b[39m response = cast(RemoteConnection, \u001b[38;5;28mself\u001b[39m.command_executor).execute(driver_command, params)\n\u001b[32m    453\u001b[39m \u001b[38;5;28;01mif\u001b[39;00m response:\n\u001b[32m--> \u001b[39m\u001b[32m454\u001b[39m     \u001b[38;5;28;43mself\u001b[39;49m\u001b[43m.\u001b[49m\u001b[43merror_handler\u001b[49m\u001b[43m.\u001b[49m\u001b[43mcheck_response\u001b[49m\u001b[43m(\u001b[49m\u001b[43mresponse\u001b[49m\u001b[43m)\u001b[49m\n\u001b[32m    455\u001b[39m     response[\u001b[33m\"\u001b[39m\u001b[33mvalue\u001b[39m\u001b[33m\"\u001b[39m] = \u001b[38;5;28mself\u001b[39m._unwrap_value(response.get(\u001b[33m\"\u001b[39m\u001b[33mvalue\u001b[39m\u001b[33m\"\u001b[39m, \u001b[38;5;28;01mNone\u001b[39;00m))\n\u001b[32m    456\u001b[39m     \u001b[38;5;28;01mreturn\u001b[39;00m response\n",
      "\u001b[36mFile \u001b[39m\u001b[32md:\\Invatat\\WC2022Prediction\\.venv\\Lib\\site-packages\\selenium\\webdriver\\remote\\errorhandler.py:232\u001b[39m, in \u001b[36mErrorHandler.check_response\u001b[39m\u001b[34m(self, response)\u001b[39m\n\u001b[32m    230\u001b[39m         alert_text = value[\u001b[33m\"\u001b[39m\u001b[33malert\u001b[39m\u001b[33m\"\u001b[39m].get(\u001b[33m\"\u001b[39m\u001b[33mtext\u001b[39m\u001b[33m\"\u001b[39m)\n\u001b[32m    231\u001b[39m     \u001b[38;5;28;01mraise\u001b[39;00m exception_class(message, screen, stacktrace, alert_text)  \u001b[38;5;66;03m# type: ignore[call-arg]  # mypy is not smart enough here\u001b[39;00m\n\u001b[32m--> \u001b[39m\u001b[32m232\u001b[39m \u001b[38;5;28;01mraise\u001b[39;00m exception_class(message, screen, stacktrace)\n",
      "\u001b[31mInvalidSessionIdException\u001b[39m: Message: invalid session id: session deleted as the browser has closed the connection\nfrom disconnected: not connected to DevTools\n  (Session info: chrome=138.0.7204.97); For documentation on this error, please visit: https://www.selenium.dev/documentation/webdriver/troubleshooting/errors#invalidsessionidexception\nStacktrace:\n\tGetHandleVerifier [0x0x7ff659746f95+76917]\n\tGetHandleVerifier [0x0x7ff659746ff0+77008]\n\t(No symbol) [0x0x7ff6594f9dea]\n\t(No symbol) [0x0x7ff6594e5f15]\n\t(No symbol) [0x0x7ff65950abf4]\n\t(No symbol) [0x0x7ff65957fa85]\n\t(No symbol) [0x0x7ff65959ff72]\n\t(No symbol) [0x0x7ff659578243]\n\t(No symbol) [0x0x7ff659541431]\n\t(No symbol) [0x0x7ff6595421c3]\n\tGetHandleVerifier [0x0x7ff659a1d2cd+3051437]\n\tGetHandleVerifier [0x0x7ff659a17923+3028483]\n\tGetHandleVerifier [0x0x7ff659a358bd+3151261]\n\tGetHandleVerifier [0x0x7ff65976185e+185662]\n\tGetHandleVerifier [0x0x7ff65976971f+218111]\n\tGetHandleVerifier [0x0x7ff65974fb14+112628]\n\tGetHandleVerifier [0x0x7ff65974fcc9+113065]\n\tGetHandleVerifier [0x0x7ff659736c98+10616]\n\tBaseThreadInitThunk [0x0x7ffc62cbe8d7+23]\n\tRtlUserThreadStart [0x0x7ffc633bc34c+44]\n"
     ]
    }
   ],
   "source": [
    "from selenium import webdriver # Selenium - helps with collecting data\n",
    "from selenium.webdriver.chrome.service import Service\n",
    "import time # Time - adds waits when automating a website\n",
    "import pandas as pd\n",
    "\n",
    "years = [1930, 1934, 1938, 1950, 1954, 1958, 1962, 1966, 1970, 1974, \n",
    "         1978, 1982, 1986, 1990, 1994, 1998, 2002, 2006, 2010, 2014, \n",
    "         2018]\n",
    "\n",
    "#path = \"D:\\Invatat\\WC2022Prediction\\chromedriver.exe\"\n",
    "service = Service(\"chromedriver.exe\")\n",
    "driver = webdriver.Chrome(service=service)\n",
    "\n",
    "def get_missing_data(year):\n",
    "    web = f'https://en.wikipedia.org/wiki/{year}_FIFA_World_Cup'\n",
    "\n",
    "    driver.get(web)\n",
    "    matches = driver.find_elements(by='xpath', value='//tr[@style=\"font-size:90%\"]')\n",
    "\n",
    "    home = []\n",
    "    score = []\n",
    "    away = []\n",
    "\n",
    "    for match in matches:\n",
    "        home.append(match.find_element(by='xpath', value='./td[1]').text)\n",
    "        score.append(match.find_element(by='xpath', value='./td[2]').text)\n",
    "        away.append(match.find_element(by='xpath', value='./td[3]').text)\n",
    "\n",
    "    dict_football = {'home': home, 'score': score, 'away': away} \n",
    "    df_football = pd.DataFrame(dict_football) \n",
    "    df_football['year'] = year\n",
    "    time.sleep(2)\n",
    "    return df_football\n",
    "\n",
    "fifa = [get_missing_data(year) for year in years]\n",
    "driver.quit()\n",
    "df_fifa = pd.concat(fifa, ignore_index=True)\n",
    "df_fifa.to_csv(\"fifa_worldcup_missing_data.csv\", index=False)"
   ]
  }
 ],
 "metadata": {
  "kernelspec": {
   "display_name": ".venv",
   "language": "python",
   "name": "python3"
  },
  "language_info": {
   "codemirror_mode": {
    "name": "ipython",
    "version": 3
   },
   "file_extension": ".py",
   "mimetype": "text/x-python",
   "name": "python",
   "nbconvert_exporter": "python",
   "pygments_lexer": "ipython3",
   "version": "3.12.10"
  }
 },
 "nbformat": 4,
 "nbformat_minor": 5
}
